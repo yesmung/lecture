{
 "cells": [
  {
   "cell_type": "code",
   "execution_count": null,
   "metadata": {},
   "outputs": [],
   "source": [
    "import tensorflow as tf\n",
    "import numpy as np\n",
    "import os \n",
    "import matplotlib.pyplot as plt\n",
    "%matplotlib inline"
   ]
  },
  {
   "cell_type": "markdown",
   "metadata": {},
   "source": [
    "# 문제1. \n",
    "\n",
    "TensorFlow API를 사용하여 I love you 를 출력하는 프로그램을 구현하세요.\n",
    "\n",
    "단, 각 문자열은 그래프를 실행할 때, placeholder에 feed 될 수 있도록 구현하셔야 합니다."
   ]
  },
  {
   "cell_type": "code",
   "execution_count": null,
   "metadata": {},
   "outputs": [],
   "source": [
    "prob1 = tf.Graph()\n",
    "\n",
    "with prob1.as_default() : \n",
    "    str1 = \"I\"\n",
    "    str2 = \"Love\"\n",
    "    str3 = \"You\"\n",
    "    \n",
    "    # 구현"
   ]
  },
  {
   "cell_type": "markdown",
   "metadata": {},
   "source": [
    "# 문제2.\n",
    "\n",
    "TensorFlow의 **default graph** 내에서 구현하시면 됩니다. \n",
    "\n",
    "jupyter notebook 이라 각각의 code block을 파일A와 파일B라고 가정합니다.\n",
    "\n",
    "\n",
    "## 파일A\n",
    "\n",
    "x_val 에 1x4 짜리 [[1.0, 2.0, 3.0, 4.0]] 를 Tensorflow의 Variable로 저장합니다.\n",
    "\n",
    "w_val 에 4x1 짜리 [[1.0],[1.0],[1.0],[1.0]] 를 Tensorflow의 Variable로 저장합니다.\n",
    "\n",
    "위와 같이 만들어진 graph 를 checkpoint 로 저장하세요. \n",
    "\n",
    "- checkpoint 저장 경로 : \"./prob2_checkpoint/\"\n",
    "- checkpoint 파일 이름 : \"prob2\"\n",
    "\n",
    "\n",
    "## 파일B\n",
    "\n",
    "파일A에서 저장한 prob2 checkpoint를 load 하여\n",
    "\n",
    "y_mat 에는 x_val과 w_val의 matrix 곱셈 연산을 수행하는 노드를 정의합니다.\n",
    "\n",
    "그 후에, y_mat 연산의 결과를 출력하세요."
   ]
  },
  {
   "cell_type": "code",
   "execution_count": null,
   "metadata": {},
   "outputs": [],
   "source": [
    "#파일 A\n"
   ]
  },
  {
   "cell_type": "code",
   "execution_count": null,
   "metadata": {},
   "outputs": [],
   "source": [
    "#파일 B\n"
   ]
  },
  {
   "cell_type": "markdown",
   "metadata": {},
   "source": [
    "# 문제3. \n",
    "\n",
    "다음의 점의 분포를 가장 잘 표현하는 직선을 찾도록 기울기를 학습할 수 있는 머신러닝 모델을 구현하세요.\n",
    "\n",
    "x_data = [1.0, 2.0, 3.0, 4.0]\n",
    "\n",
    "y_data = [1.0, 2.0, 3.0, 4.0]\n",
    "\n",
    "hypothesis = W * X + b\n",
    "\n",
    "cost = tf.reduce_mean(tf.square(hypothesis-Y))\n",
    "\n",
    "optimizer = tf.train.GradientDescentOptimizer(learning_rate=0.1)\n",
    "\n",
    "train_op = optimizer.minimize(cost)"
   ]
  },
  {
   "cell_type": "code",
   "execution_count": null,
   "metadata": {},
   "outputs": [],
   "source": [
    "prob3 = tf.???\n",
    "\n",
    "with prob3.??? :\n",
    "    x_data = np.array(???)\n",
    "    y_data = np.array(???)\n",
    "\n",
    "    plt.scatter(x_data, y_data)\n",
    "    plt.show()\n",
    "\n",
    "    X = tf.???(tf.float32, shape=(???))\n",
    "    Y = tf.???(tf.float32, shape=(???))\n",
    "\n",
    "    W = ???.???(tf.random_uniform([1], -10.0, 10.0))\n",
    "    b = ???.???(tf.random_uniform([1], -10.0, 10.0))\n",
    "\n",
    "    hypothesis = ???\n",
    "\n",
    "    cost = ???\n",
    "    optimizer = ???\n",
    "    train_op = ???\n",
    "\n",
    "    num_epochs = 801\n",
    "    with tf.???() as sess :\n",
    "        \n",
    "        sess.run(tf.???)\n",
    "\n",
    "        for step in range(num_epochs) :\n",
    "            _, _cost = sess.run([???, ???], feed_dict={???, ???})\n",
    "\n",
    "            if (step % 20 == 0) :\n",
    "                _W, _b = sess.run([W, b])\n",
    "                print(step, _cost, _W, _b)\n",
    "\n",
    "        print(\"============ Complete training ===========\")\n",
    "        plt.scatter(x_data, y_data)\n",
    "        plt.plot(x_data, _W*x_data+_b, 'r')\n",
    "        plt.show()\n",
    "        \n",
    "        print(\"============ Infrence(Prediction) ============\")\n",
    "        print(\"X: 10.0 Y:\", sess.run(hypothesis, feed_dict={X: 10.0}), \"Expected : 10.0\")\n",
    "        print(\"X: 100.0, Y:\", sess.run(hypothesis, feed_dict={X: 100.0}), \"Expected : 100.0\")\n",
    "        print(\"X: 150.0, Y:\", sess.run(hypothesis, feed_dict={X: 150.0}), \"Expected : 150.0\")"
   ]
  },
  {
   "cell_type": "markdown",
   "metadata": {},
   "source": [
    "# 문제4.\n",
    "\n",
    "다음의 점의 분포를 가장 잘 표현하는 선을 찾도록 기울기를 학습할 수 있는 머신러닝 모델을 구현하세요.\n",
    "\n",
    "x1_data = [1.0, 2.0, 3.0, 4.0]\n",
    "\n",
    "x2_data = [0.0, 2.0, 0.0, 4.0]\n",
    "\n",
    "y_data = [1.0, 2.0, 3.0, 4.0]\n",
    "\n",
    "hypothesis= ???"
   ]
  },
  {
   "cell_type": "code",
   "execution_count": null,
   "metadata": {},
   "outputs": [],
   "source": [
    "prob4 = tf.???\n",
    "\n",
    "with ??? :\n",
    "    x1_data = ???\n",
    "    x2_data = ???\n",
    "    y_data = ???\n",
    "    \n",
    "    plt.scatter(x1_data, y_data)\n",
    "    plt.show()\n",
    "\n",
    "    X1 = ???\n",
    "    X2 = ???\n",
    "    Y = ???\n",
    "\n",
    "    W1 = ???(tf.random_uniform([1], -10.0, 10.0))\n",
    "    W2 = ???(tf.random_uniform([1], -10.0, 10.0))\n",
    "\n",
    "    b = ???(tf.random_uniform([1], -10.0, 10.0))\n",
    "\n",
    "    hypothesis = W1 * X1 + W2 * X2 + b\n",
    "    \n",
    "    cost = ???\n",
    "    optimizer = ???\n",
    "    train_op = ???\n",
    "\n",
    "    num_epochs = 801\n",
    "    with tf.Session() as sess :\n",
    "        sess.run(???)\n",
    "\n",
    "        for step in range(num_epochs) :\n",
    "            # 학습 구현\n",
    "\n",
    "        \n",
    "        print(\"============ Complete training ===========\")\n",
    "        plt.scatter(x1_data, y_data)\n",
    "        plt.plot(x1_data, _W1*x1_data + _W2*x2_data +_b, 'r')\n",
    "        plt.show()\n",
    "        \n",
    "        print(\"============ Infrence(Prediction) ============\")\n",
    "        print(\"[X1, X2] : [0.0, 60.0], Y:\", sess.run(???, feed_dict={X1: 0.0, X2: 60.0}), \"Expected : 0.0\")\n",
    "        print(\"[X1, X2] : [70.0, 0.0], Y:\", sess.run(???, feed_dict={X1: 70.0, X2: 0.0}), \"Expected : 70.0\")\n",
    "        print(\"[X1, X2] : [80.0, 0.0], Y:\", sess.run(???, feed_dict={X1: 80.0, X2: 0.0}), \"Expected : 80.0\")\n",
    "        "
   ]
  }
 ],
 "metadata": {
  "kernelspec": {
   "display_name": "Python 3",
   "language": "python",
   "name": "python3"
  },
  "language_info": {
   "codemirror_mode": {
    "name": "ipython",
    "version": 3
   },
   "file_extension": ".py",
   "mimetype": "text/x-python",
   "name": "python",
   "nbconvert_exporter": "python",
   "pygments_lexer": "ipython3",
   "version": "3.5.4"
  }
 },
 "nbformat": 4,
 "nbformat_minor": 2
}
