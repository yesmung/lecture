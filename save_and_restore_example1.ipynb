{
 "cells": [
  {
   "cell_type": "code",
   "execution_count": 22,
   "metadata": {
    "collapsed": true
   },
   "outputs": [],
   "source": [
    "import tensorflow as tf\n",
    "import os"
   ]
  },
  {
   "cell_type": "code",
   "execution_count": 23,
   "metadata": {},
   "outputs": [
    {
     "name": "stdout",
     "output_type": "stream",
     "text": [
      "<tensorflow.python.framework.ops.Graph object at 0x7fc5d44c8278>\n"
     ]
    }
   ],
   "source": [
    "print(tf.get_default_graph()) "
   ]
  },
  {
   "cell_type": "code",
   "execution_count": 74,
   "metadata": {},
   "outputs": [
    {
     "name": "stdout",
     "output_type": "stream",
     "text": [
      "model_checkpoint_path: \"./my_checkpoint/my-trained_model\"\n",
      "all_model_checkpoint_paths: \"./my_checkpoint/my-trained_model\"\n",
      "\n",
      "<class 'tensorflow.python.training.checkpoint_state_pb2.CheckpointState'>\n",
      "INFO:tensorflow:Restoring parameters from ./my_checkpoint/my-trained_model\n",
      "2.0\n",
      "None\n"
     ]
    }
   ],
   "source": [
    "mg = tf.Graph()\n",
    "\n",
    "with mg.as_default() :\n",
    "    with tf.Session() as sess : \n",
    "        ckpt_state = tf.train.get_checkpoint_state(\"./my_checkpoint\")    \n",
    "        print(ckpt_state)\n",
    "        print(type(ckpt_state))\n",
    "\n",
    "        saver = tf.train.import_meta_graph('./my_checkpoint/my-trained_model.meta')\n",
    "        saver.restore(sess, './my_checkpoint/my-trained_model')\n",
    "\n",
    "        val_a = mg.get_tensor_by_name(\"val_a:0\")\n",
    "        op_a = mg.get_operation_by_name(\"val_a\")\n",
    "        print(sess.run(val_a))\n",
    "        print(sess.run(op_a))"
   ]
  },
  {
   "cell_type": "code",
   "execution_count": null,
   "metadata": {
    "collapsed": true
   },
   "outputs": [],
   "source": []
  }
 ],
 "metadata": {
  "kernelspec": {
   "display_name": "Python 3",
   "language": "python",
   "name": "python3"
  },
  "language_info": {
   "codemirror_mode": {
    "name": "ipython",
    "version": 3
   },
   "file_extension": ".py",
   "mimetype": "text/x-python",
   "name": "python",
   "nbconvert_exporter": "python",
   "pygments_lexer": "ipython3",
   "version": "3.5.2"
  }
 },
 "nbformat": 4,
 "nbformat_minor": 2
}
