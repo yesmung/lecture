{
 "cells": [
  {
   "cell_type": "code",
   "execution_count": 20,
   "metadata": {
    "collapsed": true
   },
   "outputs": [],
   "source": [
    "import tensorflow as tf\n",
    "import numpy as np\n",
    "import os "
   ]
  },
  {
   "attachments": {
    "pratice1.png": {
     "image/png": "[encoded data removed]"
    }
   },
   "cell_type": "markdown",
   "metadata": {},
   "source": [
    "# 문제1.\n",
    "\n",
    "다음의 연산 C 을 수행하는 그래프를 만들어 실행하세요. <br>\n",
    "A와 B의 name을 각각 \"input_a\", \"input_b\"로 지정합니다. <br>\n",
    "그리고 그래프를 tensorboard에서 실행할 수 있도록 event 파일로 저장하세요. <br>\n",
    "p1 변수에 그래프 객체를 받아서 구현하세요. <br>\n",
    "\n",
    "A = 5.0, B = 3.0 일 때,<br>\n",
    "C = A * B <br>\n",
    "Tensorboard 경로 = '.\\practice1'\n",
    "\n",
    "** 출력결과 ** <br>\n",
    "C = 15.0\n",
    "\n",
    "![pratice1.png](attachment:pratice1.png)"
   ]
  },
  {
   "cell_type": "code",
   "execution_count": null,
   "metadata": {
    "collapsed": true
   },
   "outputs": [],
   "source": [
    "p1 = ???\n",
    "\n",
    "with p1.as_default() :\n",
    "    A = tf.constant(5.0, name='input_a')\n",
    "    B = ???\n",
    "    C = tf.???(A,B)\n",
    "    print(C)\n",
    "\n",
    "    log_dir = './practice1'\n",
    "\n",
    "    with tf.??? as sess : \n",
    "        print(\"C =\", sess.run(C))\n",
    "        writer = tf.???.????(???, ???)\n",
    "        writer.close()"
   ]
  },
  {
   "cell_type": "markdown",
   "metadata": {},
   "source": [
    "# 문제2.\n",
    "다음의 연산(c~g)을 수행하는 그래프를 만들어 실행하세요. <br>\n",
    "\n",
    "p2 변수에 그래프 객체를 받아서 구현하세요.\n",
    "\n",
    "a = 10.0<br>\n",
    "b = 20.0<br> \n",
    "c = a + b<br>\n",
    "d = a * b<br>\n",
    "e = c - d<br>\n",
    "f = c + d<br>\n",
    "g = e / f<br>\n",
    "\n",
    "** <출력 결과> **<br>\n",
    "\n",
    "[30.0, 200.0, -10.0, 230.0, -0.04347826]"
   ]
  },
  {
   "cell_type": "code",
   "execution_count": 16,
   "metadata": {},
   "outputs": [
    {
     "name": "stdout",
     "output_type": "stream",
     "text": [
      "[30.0, 200.0, -10.0, 230.0, -0.04347826]\n"
     ]
    }
   ],
   "source": [
    "a = ???\n",
    "b = ???\n",
    "\n",
    "c = ???\n",
    "d = ???\n",
    "e = ???\n",
    "f = ???\n",
    "g = ???\n",
    "\n",
    "with tf.Session() as sess :\n",
    "    print(sess.run([c,d,e,f,g]))"
   ]
  },
  {
   "cell_type": "markdown",
   "metadata": {},
   "source": [
    "# 문제3.\n",
    "\n",
    "1 x 3 행렬 x_data<br>\n",
    "3 x 1 행렬 w_data\n",
    "\n",
    "그리고 두 행렬을 곱하는 연산을 하는 yp가 동작하도록 아래의 ???를 올바른 코드로 변경하세요. \n",
    "\n",
    "p3 에 그래프 객체를 생성하여 구현하세요."
   ]
  },
  {
   "cell_type": "code",
   "execution_count": null,
   "metadata": {
    "collapsed": true
   },
   "outputs": [],
   "source": [
    "p3 = tf.Graph()\n",
    "\n",
    "with p3.??? :\n",
    "    x_data = [[1.0, 2.0, 3.0]]\n",
    "    w_data = [[2.0], [2.0], [2.0]]\n",
    "    xp = tf.???(tf.float32, shape=(None, 3))\n",
    "    wp = tf.???(tf.float32, shape=(None, 1))\n",
    "    yp = tf.???(xp, wp)\n",
    "\n",
    "    with tf.Session(graph=p3) as sess :\n",
    "        result = sess.run(yp, feed_dict={xp: x_data, wp: w_data})\n",
    "        print(\"result = {}\".format(result))\n",
    "        print(\"shape of result = {}\".format(yp.get_shape()))"
   ]
  },
  {
   "cell_type": "markdown",
   "metadata": {},
   "source": [
    "# 문제4.\n",
    "\n",
    "다음 코드가 X와 W의 행렬 곱을 하는 코드를 작성하세요. \n",
    "\n",
    "p4 변수에 그래프 객체를 받아서 구현하세요.\n",
    "\n",
    "x_data = np.array([[1.0, 2.0, 3.0], [4.0, 5.0, 6.0]])\n",
    "\n",
    "w_data = np.array([[2.0], [2.0], [2.0]])\n",
    "\n",
    "X -> placeholder, x_data (feed)\n",
    "\n",
    "W -> placeholder, w_data (feed)\n",
    "\n",
    "**<출력 결과>**\n",
    "\n",
    "[[12.]<br>\n",
    " [30.]]"
   ]
  },
  {
   "cell_type": "code",
   "execution_count": 7,
   "metadata": {},
   "outputs": [
    {
     "name": "stdout",
     "output_type": "stream",
     "text": [
      "(2, 3)\n",
      "(3, 1)\n",
      "[[12.]\n",
      " [30.]]\n"
     ]
    }
   ],
   "source": [
    "p4 = tf.???\n",
    "\n",
    "with p4.??? :\n",
    "    x_data = ???\n",
    "    w_data = ???\n",
    "    \n",
    "    X = tf.placeholder(tf.float32, shape=???)\n",
    "    W = tf.placeholder(tf.float32, shape=???)\n",
    "    Y = tf.???(X, W)\n",
    "    \n",
    "    with ??? as sess :\n",
    "        print(sess.run(Y, feed_dict={X: ???, ???: w_data}))"
   ]
  },
  {
   "cell_type": "markdown",
   "metadata": {},
   "source": [
    "# 문제5.\n",
    "\n",
    "구구단 2단을 출력하는 프로그램을 구현하세요. \n",
    "\n",
    "p5 변수에 그래프 객체를 받아서 구현하세요.\n",
    "\n",
    "left_data = np.array([2.0])\n",
    "\n",
    "right_data = np.array([1.0])\n",
    "\n",
    "left_val -> placeholder, left_data (feed)\n",
    "\n",
    "right_val -> placeholder, right_data (feed)\n",
    "\n",
    "**<출력 결과>**\n",
    "\n",
    "[2.]<br>\n",
    "[4.]<br>\n",
    "[6.]<br>\n",
    "[8.]<br>\n",
    "[10.]<br>\n",
    "[12.]<br>\n",
    "[14.]<br>\n",
    "[16.]<br>\n",
    "[18.]<br>\n"
   ]
  },
  {
   "cell_type": "code",
   "execution_count": 15,
   "metadata": {},
   "outputs": [
    {
     "name": "stdout",
     "output_type": "stream",
     "text": [
      "[2.]\n",
      "[4.]\n",
      "[6.]\n",
      "[8.]\n",
      "[10.]\n",
      "[12.]\n",
      "[14.]\n",
      "[16.]\n",
      "[18.]\n"
     ]
    }
   ],
   "source": [
    "p5 = tf.Graph()\n",
    "\n",
    "with p5.as_default() :\n",
    "    \n",
    "    left_data = np.array([2.0])\n",
    "    right_data = np.array([1.0])\n",
    "    \n",
    "    left_val = ???\n",
    "    right_val = ???\n",
    "    \n",
    "    result = tf.???(left_val, right_val)\n",
    "\n",
    "    with tf.Session() as sess :\n",
    "        sess.run(tf.global_variables_initializer())\n",
    "        \n",
    "        for i in range(9) :\n",
    "            print(sess.run(result, feed_dict={left_val : left_data, \n",
    "                                              right_val : ??? + i}))"
   ]
  },
  {
   "attachments": {
    "practice2.png": {
     "image/png": "[encoded data removed]"
    }
   },
   "cell_type": "markdown",
   "metadata": {},
   "source": [
    "# 문제6.\n",
    "각 노드에 저장된 문자열을 합치는 연산을 하여 최종적으로 \"I am a boy\" 를 출력하는 그래프를 만드세요.<br>\n",
    "그리고 그래프를 tensorboard에서 실행해서 확인해보세요. <br>\n",
    "\n",
    "str1 => \"I\" <br>\n",
    "str2 => \"am\" <br>\n",
    "str3 => \"a\" <br>\n",
    "str4 => \"boy\" <br>\n",
    "str1_2 => \"I am\" <br>\n",
    "str3_4 => \"a boy <br>\n",
    "str_total => \"I am a boy\" <br>\n",
    "Tensorboard event 파일 저장 경로 = './practice1'<br>\n",
    "\n",
    "![practice2.png](attachment:practice2.png)"
   ]
  },
  {
   "cell_type": "markdown",
   "metadata": {},
   "source": [
    "# 문제7.\n",
    "\n",
    "**파일A 에서는**\n",
    "\n",
    "그래프 정의 부분 \n",
    "\n",
    "a_val -> Variable 10.0 저장\n",
    "\n",
    "b_val -> Variable 20.0 저장\n",
    "\n",
    "c_val -> a_val 과 c_val 의 덧셈\n",
    "\n",
    "위의 Variable과 operation을 checkpoint 로 저장\n",
    "\n",
    "저장경로는 \"./pratice7/my-model\"\n",
    "\n",
    "**파일B 에서는 (다른 코드블락)**\n",
    "\n",
    "그래프 실행 부분\n",
    "\n",
    "./pratice7/my-model 의 checkpoint와 metagraph를 읽어와서 \n",
    "\n",
    "그래프 실항하여 c_val 의 결과 출력"
   ]
  },
  {
   "cell_type": "code",
   "execution_count": null,
   "metadata": {
    "collapsed": true
   },
   "outputs": [],
   "source": [
    "# 파일A"
   ]
  },
  {
   "cell_type": "code",
   "execution_count": 19,
   "metadata": {
    "collapsed": true
   },
   "outputs": [],
   "source": [
    "# 파일B"
   ]
  },
  {
   "cell_type": "markdown",
   "metadata": {},
   "source": [
    "# 문제8.\n",
    "\n",
    "y=3x를 찾아내는 Linear regression 알고리즘을 위한 코드입니다. <br>\n",
    "다음의 코드가 동작하도록 ???를 올바른 코드로 변경하세요.<br>"
   ]
  },
  {
   "cell_type": "code",
   "execution_count": null,
   "metadata": {
    "collapsed": true
   },
   "outputs": [],
   "source": [
    "x_data = np.array([1., 2., 3., 4.])\n",
    "y_data = np.array([3., 6., 9. ,12.])\n",
    "\n",
    "X = tf.???(tf.float32)\n",
    "Y = tf.???(tf.float32)\n",
    "\n",
    "W = tf.???(tf.random_uniform([1], -1.0, 1.0))\n",
    "b = tf.???(tf.random_uniform([1], -1.0, 1.0))\n",
    "\n",
    "hypothesis = W * X + b\n",
    "\n",
    "cost = tf.reduce_mean(tf.square(hypothesis - Y))\n",
    "optimizer = tf.train.GradientDescentOptimizer(learning_rate=0.1)\n",
    "train_op = optimizer.minimize(cost)\n",
    "\n",
    "with tf.Session() as sess :\n",
    "    sess.run(tf.global_variables_initializer())\n",
    "\n",
    "    for step in range(100) :\n",
    "        _, cost_val = sess.run([???, ???], feed_dict=???)\n",
    "        print(step, cost_val, sess.run(W), sess.run(b))\n",
    "\n",
    "    print(\"\\n=== Test ===\")\n",
    "    print(\"X: 5, Y:\", sess.run((?), feed_dict=???))\n",
    "    print(\"X: 2.5, Y:\", sess.run((?), feed_dict=???))"
   ]
  }
 ],
 "metadata": {
  "kernelspec": {
   "display_name": "Python 3",
   "language": "python",
   "name": "python3"
  },
  "language_info": {
   "codemirror_mode": {
    "name": "ipython",
    "version": 3
   },
   "file_extension": ".py",
   "mimetype": "text/x-python",
   "name": "python",
   "nbconvert_exporter": "python",
   "pygments_lexer": "ipython3",
   "version": "3.5.2"
  }
 },
 "nbformat": 4,
 "nbformat_minor": 2
}
